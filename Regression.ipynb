{
 "cells": [
  {
   "cell_type": "markdown",
   "id": "534d87a8",
   "metadata": {},
   "source": [
    "# OLS Regression Proces - \n",
    "\n",
    "For a detailed investigation refer to the Russell Davidson, James G. MacKinnon' \n",
    "Econometric Theory and Methods: this is one of their website and pdf version of the book can be reached \n",
    "    http://qed.econ.queensu.ca/pub/faculty/mackinnon/"
   ]
  },
  {
   "cell_type": "markdown",
   "id": "7091e93d",
   "metadata": {},
   "source": [
    "# Proof of Linearity"
   ]
  },
  {
   "cell_type": "markdown",
   "id": "7fa25d65",
   "metadata": {},
   "source": [
    "Let's denote the dependent variable as $\\mathbf{Y}$ and the independent variables as $\\mathbf{X}$.\n",
    "\n",
    "The OLS regression model can be represented in matrix form as:\n",
    "\n",
    "$Y=X\\beta+\\epsilon$\n",
    "\n",
    "where:\n",
    "\n",
    "$\\mathbf{Y}$ is an $n \\times 1$ vector representing the dependent variable,\n",
    "$\\mathbf{X}$ is an $n \\times (p+1)$ matrix representing the independent variables (including the intercept term),\n",
    "$\\boldsymbol{\\beta}$ is a $(p+1) \\times 1$ vector of unknown coefficients to be estimated,\n",
    "$\\boldsymbol{\\varepsilon}$ is an $n \\times 1$ vector representing the error term (residuals).\n",
    "To prove the linearity assumption, we need to show that the true relationship between the variables can be accurately represented by this linear equation.\n",
    "\n",
    "Proof:\n",
    "\n",
    "Let's assume that the true relationship between the dependent variable and the independent variables can be written as:\n",
    "\n",
    "$Y=X\\beta^*+\\epsilon$\n",
    "\n",
    "where $\\boldsymbol{\\beta}^*$ is a $(p+1) \\times 1$ vector of true coefficients.\n",
    "\n",
    "Now, let's consider the OLS estimation of the coefficients, denoted as $\\hat{\\boldsymbol{\\beta}}$. The OLS estimator is derived by minimizing the sum of squared residuals:\n",
    "\n",
    "$\\hat{\\boldsymbol{\\beta}} = \\arg\\min_{\\beta} (Y-X\\beta)^T (Y-X\\beta)$\n",
    "\n",
    "Taking the derivative of the objective function with respect to $\\boldsymbol{\\beta}$ and setting it equal to zero, we obtain the normal equations:\n",
    "\n",
    "$X^T (Y-X\\hat{\\boldsymbol{\\beta}}) = 0$\n",
    "\n",
    "Solving the normal equations, we can express the OLS estimator as:\n",
    "\n",
    "$\\hat{\\boldsymbol{\\beta}} = (X^T X)^{-1} X^T Y$\n",
    "\n",
    "We can now substitute the true relationship into the OLS estimator:\n",
    "\n",
    "$\\hat{\\boldsymbol{\\beta}} = (X^T X)^{-1} X^T (X\\beta^* + \\epsilon)$\n",
    "\n",
    "Expanding the equation:\n",
    "\n",
    "$\\hat{\\boldsymbol{\\beta}} = \\beta^* + (X^T X)^{-1} X^T \\epsilon$\n",
    "\n",
    "From this equation, we can see that the OLS estimator $\\hat{\\boldsymbol{\\beta}}$ is a linear function of the error term $\\boldsymbol{\\varepsilon}$. The coefficients $\\boldsymbol{\\beta}^*$ are constant, and the terms involving $\\boldsymbol{\\varepsilon}$ are deterministic. Thus, the OLS estimator $\\hat{\\boldsymbol{\\beta}}$ preserves the linearity between the dependent variable $\\mathbf{Y}$ and the independent variables $\\mathbf{X}$.\n",
    "\n",
    "This mathematical proof shows that the OLS estimator $\\hat{\\boldsymbol{\\beta}}$ is a linear function of the error term $\\boldsymbol{\\varepsilon}$, which confirms the linearity assumption in the OLS regression model."
   ]
  },
  {
   "cell_type": "markdown",
   "id": "9b60da23",
   "metadata": {},
   "source": [
    "\n",
    "\n"
   ]
  },
  {
   "cell_type": "markdown",
   "id": "ba0e93e0",
   "metadata": {},
   "source": [
    "# 1 \n",
    "One approach to demonstrating linearity is by examining scatter plots of the dependent variable against each independent variable. If the scatter plots indicate a roughly linear pattern, it suggests that a linear equation could reasonably represent the relationship. However, this visual inspection is not sufficient as it does not provide formal statistical evidence."
   ]
  },
  {
   "cell_type": "code",
   "execution_count": null,
   "id": "7385b398",
   "metadata": {},
   "outputs": [],
   "source": [
    "import numpy as np\n",
    "import matplotlib.pyplot as plt\n",
    "\n",
    "np.random.seed(0)\n",
    "\n",
    "n = 100  \n",
    "X = np.random.randn(n) \n",
    "epsilon = np.random.randn(n) \n",
    "beta = 2  \n",
    "Y = 3 + beta*X + epsilon  \n",
    "\n",
    "plt.scatter(X, Y)\n",
    "plt.xlabel('X')\n",
    "plt.ylabel('Y')\n",
    "plt.title('Scatter Plot of Y vs X (with Linear Relationship)')\n",
    "plt.grid(True)\n",
    "plt.show()\n"
   ]
  },
  {
   "cell_type": "markdown",
   "id": "147ac4d0",
   "metadata": {},
   "source": [
    "--------------------------------------------------------------------------------------------------------------------------------"
   ]
  },
  {
   "cell_type": "markdown",
   "id": "d92e42a0",
   "metadata": {},
   "source": [
    "# 2\n",
    "To formally test the linearity assumption, you can use statistical techniques such as residual analysis or hypothesis tests. Residual analysis involves examining the residuals (the differences between the observed values and the predicted values) to check for any systematic patterns or non-linear trends. If the residuals exhibit no discernible patterns and appear randomly scattered around zero, it provides evidence in favor of linearity."
   ]
  },
  {
   "cell_type": "code",
   "execution_count": 4,
   "id": "e29f2750",
   "metadata": {},
   "outputs": [
    {
     "data": {
      "image/png": "[encoded data removed]",
      "text/plain": [
       "<Figure size 640x480 with 1 Axes>"
      ]
     },
     "metadata": {},
     "output_type": "display_data"
    },
    {
     "name": "stdout",
     "output_type": "stream",
     "text": [
      "Rainbow test statistic: 1.4192070848949827\n",
      "Rainbow test p-value: 0.11268019104585066\n"
     ]
    }
   ],
   "source": [
    "import numpy as np\n",
    "import matplotlib.pyplot as plt\n",
    "import statsmodels.api as sm\n",
    "from statsmodels.stats.diagnostic import linear_rainbow\n",
    "\n",
    "np.random.seed(0)\n",
    "\n",
    "n = 100  \n",
    "X = np.random.randn(n) \n",
    "epsilon = np.random.randn(n) \n",
    "beta = 2  \n",
    "Y = 3 + beta*X + epsilon  \n",
    "\n",
    "\n",
    "X = sm.add_constant(X) \n",
    "model = sm.OLS(Y, X)\n",
    "results = model.fit()\n",
    "predictions = results.predict(X)\n",
    "\n",
    "\n",
    "residuals = Y - predictions\n",
    "\n",
    "\n",
    "plt.scatter(X[:, 1], residuals)\n",
    "plt.axhline(y=0, color='r', linestyle='--')\n",
    "plt.xlabel('X')\n",
    "plt.ylabel('Residuals')\n",
    "plt.title('Residual Plot')\n",
    "plt.grid(True)\n",
    "plt.show()\n",
    "\n",
    "\n",
    "rainbow_statistic, rainbow_p_value = linear_rainbow(results)\n",
    "print(f'Rainbow test statistic: {rainbow_statistic}')\n",
    "print(f'Rainbow test p-value: {rainbow_p_value}')\n"
   ]
  },
  {
   "cell_type": "markdown",
   "id": "4073e88e",
   "metadata": {},
   "source": [
    "--------------------------------------------------------------------------------------------------------------------------------"
   ]
  },
  {
   "cell_type": "markdown",
   "id": "6bb72580",
   "metadata": {},
   "source": [
    "# 3\n",
    "Another method to test the linearity assumption is to include additional terms in the regression model that capture non-linear relationships, such as polynomial terms or interaction terms. By adding these terms and performing statistical tests (e.g., F-test or t-test), you can assess whether the non-linear terms significantly improve the model fit compared to the simpler linear model"
   ]
  },
  {
   "cell_type": "code",
   "execution_count": 8,
   "id": "6fd38512",
   "metadata": {},
   "outputs": [
    {
     "name": "stdout",
     "output_type": "stream",
     "text": [
      "F-value: 0.6889864318302782\n",
      "p-value: 0.40854757758201843\n"
     ]
    }
   ],
   "source": [
    "np.random.seed(0)\n",
    "\n",
    "n = 100\n",
    "X = np.random.randn(n)\n",
    "epsilon = np.random.randn(n)\n",
    "beta = 2\n",
    "Y = 3 + beta * X + epsilon\n",
    "\n",
    "\n",
    "X_linear = sm.add_constant(X)  \n",
    "model_linear = sm.OLS(Y, X_linear)\n",
    "results_linear = model_linear.fit()\n",
    "predictions_linear = results_linear.predict(X_linear)\n",
    "\n",
    "\n",
    "X_poly = sm.add_constant(np.column_stack((X, X**2)))  \n",
    "model_poly = sm.OLS(Y, X_poly)\n",
    "results_poly = model_poly.fit()\n",
    "predictions_poly = results_poly.predict(X_poly)\n",
    "\n",
    "\n",
    "f_value = results_poly.compare_f_test(results_linear)\n",
    "print(f'F-value: {f_value[0]}')\n",
    "print(f'p-value: {f_value[1]}')\n"
   ]
  },
  {
   "cell_type": "markdown",
   "id": "2ac4fcf2",
   "metadata": {},
   "source": [
    "As we can see, adding a polynomial variable doesn't improve the model so the linear model performs better."
   ]
  },
  {
   "cell_type": "markdown",
   "id": "0a023adb",
   "metadata": {},
   "source": [
    "--------------------------------------------------------------------------------------------------------------------------------"
   ]
  },
  {
   "cell_type": "code",
   "execution_count": null,
   "id": "2d120e2f",
   "metadata": {},
   "outputs": [],
   "source": []
  }
 ],
 "metadata": {
  "kernelspec": {
   "display_name": "Python 3 (ipykernel)",
   "language": "python",
   "name": "python3"
  },
  "language_info": {
   "codemirror_mode": {
    "name": "ipython",
    "version": 3
   },
   "file_extension": ".py",
   "mimetype": "text/x-python",
   "name": "python",
   "nbconvert_exporter": "python",
   "pygments_lexer": "ipython3",
   "version": "3.10.9"
  }
 },
 "nbformat": 4,
 "nbformat_minor": 5
}
